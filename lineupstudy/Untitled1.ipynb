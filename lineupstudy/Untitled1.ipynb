{
 "cells": [
  {
   "cell_type": "code",
   "execution_count": 4,
   "id": "c091b0c7",
   "metadata": {},
   "outputs": [
    {
     "name": "stdout",
     "output_type": "stream",
     "text": [
      "   Cameron Payne (32631144)     Brandon Ingram (32630871)  \\\n",
      "0  Cameron Payne (32631144)        Jalen Green (32630892)   \n",
      "1  Cameron Payne (32631144)  Bogdan Bogdanovic (32630971)   \n",
      "2  Cameron Payne (32631144)        Jalen Green (32630892)   \n",
      "3  Cameron Payne (32631144)      Amen Thompson (32631013)   \n",
      "4  Cameron Payne (32631144)      Amen Thompson (32631013)   \n",
      "\n",
      "  Scottie Barnes (32630847)  Jabari Smith Jr. (32631002)  \\\n",
      "0    Buddy Hield (32637556)  Jabari Smith Jr. (32631002)   \n",
      "1  Tobias Harris (32630867)   Kelly Oubre Jr. (32630934)   \n",
      "2  Tobias Harris (32630867)   Kelly Oubre Jr. (32630934)   \n",
      "3   Jayson Tatum (32630825)  Jabari Smith Jr. (32631002)   \n",
      "4  Tobias Harris (32630867)  Jabari Smith Jr. (32631002)   \n",
      "\n",
      "   Eugene Omoruyi (32631147)      Trae Young (32630832)  \\\n",
      "0    Nikola Jokic (32630812)     CJ McCollum (32630924)   \n",
      "1   Anthony Davis (32630818)     CJ McCollum (32630924)   \n",
      "2    Jakob Poeltl (32630942)      Trae Young (32630832)   \n",
      "3  Eugene Omoruyi (32631147)  Brandon Ingram (32630871)   \n",
      "4  Eugene Omoruyi (32631147)      Trae Young (32630832)   \n",
      "\n",
      "    Kelly Oubre Jr. (32630934)      Buddy Hield (32637556)  294.5653139186321  \\\n",
      "0    Eugene Omoruyi (32631147)  Kelly Oubre Jr. (32630934)         294.297803   \n",
      "1  Jabari Smith Jr. (32631002)   Eugene Omoruyi (32631147)         293.229907   \n",
      "2  Jabari Smith Jr. (32631002)   Eugene Omoruyi (32631147)         292.948059   \n",
      "3   Kelly Oubre Jr. (32630934)    Tobias Harris (32630867)         292.926472   \n",
      "4     Jalen Johnson (32630884)  Zion Williamson (32630899)         292.538067   \n",
      "\n",
      "   49900  \n",
      "0  50000  \n",
      "1  50000  \n",
      "2  50000  \n",
      "3  49900  \n",
      "4  49900  \n"
     ]
    }
   ],
   "source": [
    "import pandas as pd\n",
    "import sys\n",
    "\n",
    "my_lu_fpath = \"./dklineups.csv\"\n",
    "#other_fpath = \"C:\\\\Users\\\\brose32\\\\Documents\\\\\" + sys.argv[1]\n",
    "my_contest_fpath = \"C:\\\\Users\\\\brose32\\\\Documents\\\\minimax-0208.csv\"\n",
    "my_lu_df = pd.read_csv(my_lu_fpath)\n",
    "#other_df = pd.read_csv(other_fpath)\n",
    "my_contest_df = pd.read_csv(my_contest_fpath)\n",
    "print(my_lu_df.head())\n",
    "#print(other_df.head())"
   ]
  },
  {
   "cell_type": "code",
   "execution_count": 1,
   "id": "88726976",
   "metadata": {},
   "outputs": [
    {
     "ename": "NameError",
     "evalue": "name 'my_contest_df' is not defined",
     "output_type": "error",
     "traceback": [
      "\u001b[1;31m---------------------------------------------------------------------------\u001b[0m",
      "\u001b[1;31mNameError\u001b[0m                                 Traceback (most recent call last)",
      "Cell \u001b[1;32mIn[1], line 1\u001b[0m\n\u001b[1;32m----> 1\u001b[0m \u001b[38;5;28mprint\u001b[39m(my_contest_df\u001b[38;5;241m.\u001b[39mhead())\n",
      "\u001b[1;31mNameError\u001b[0m: name 'my_contest_df' is not defined"
     ]
    }
   ],
   "source": [
    "print(my_contest_df.head())"
   ]
  },
  {
   "cell_type": "code",
   "execution_count": null,
   "id": "067794ef",
   "metadata": {},
   "outputs": [],
   "source": []
  },
  {
   "cell_type": "code",
   "execution_count": null,
   "id": "b3380a1d",
   "metadata": {},
   "outputs": [],
   "source": []
  }
 ],
 "metadata": {
  "kernelspec": {
   "display_name": "Python 3 (ipykernel)",
   "language": "python",
   "name": "python3"
  },
  "language_info": {
   "codemirror_mode": {
    "name": "ipython",
    "version": 3
   },
   "file_extension": ".py",
   "mimetype": "text/x-python",
   "name": "python",
   "nbconvert_exporter": "python",
   "pygments_lexer": "ipython3",
   "version": "3.11.5"
  }
 },
 "nbformat": 4,
 "nbformat_minor": 5
}
